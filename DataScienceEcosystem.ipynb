{
 "cells": [
  {
   "cell_type": "markdown",
   "id": "c4e044ac-7e7a-488b-84d3-249cc78c55f1",
   "metadata": {},
   "source": [
    "# Data Science Tools and Ecosystem"
   ]
  },
  {
   "cell_type": "markdown",
   "id": "8dd680c2-af05-44a8-9931-929dd29c3cfa",
   "metadata": {
    "tags": []
   },
   "source": [
    "In this notebook, Data Science Tools and Ecosystem are summarized."
   ]
  },
  {
   "cell_type": "markdown",
   "id": "586d8b85-7a6d-42a6-9ad1-02627ac48c6c",
   "metadata": {},
   "source": [
    "Some of the popular languages that Data Scientists use are: \n",
    "1. Python\n",
    "2. R.\n",
    "3. SQL\n",
    "4. Java\n",
    "5. Julia"
   ]
  },
  {
   "cell_type": "markdown",
   "id": "98ddc8bb-570b-4992-a551-04230bb09aa2",
   "metadata": {},
   "source": [
    "Some of the commonly used libraries used by Data Scientists include:\n",
    "1. TensorFlow\n",
    "2. NumPy.\n",
    "3. SciPy.\n"
   ]
  },
  {
   "cell_type": "markdown",
   "id": "8abfed28-f488-47c7-8a0a-476fc91599a1",
   "metadata": {},
   "source": [
    "| Data Science Tools |\n",
    "| --- | \n",
    "|Apache Spark |\n",
    "| BigML |\n",
    "| SAS |"
   ]
  },
  {
   "cell_type": "markdown",
   "id": "af2ae656-ef1b-447b-a8c2-f2138d73801b",
   "metadata": {},
   "source": [
    "### Below are a few examples of evaluating arithmetic expressions in Python\n"
   ]
  },
  {
   "cell_type": "code",
   "execution_count": 5,
   "id": "449057c2-4d13-4439-b6a6-90fac5fc451d",
   "metadata": {
    "tags": []
   },
   "outputs": [
    {
     "data": {
      "text/plain": [
       "17"
      ]
     },
     "execution_count": 5,
     "metadata": {},
     "output_type": "execute_result"
    }
   ],
   "source": [
    "# This is a simple arithmetic expression to multiply then add integers.\n",
    "(3*4) + 5"
   ]
  },
  {
   "cell_type": "code",
   "execution_count": 7,
   "id": "24a3ace6-b109-48d3-a525-4daf639e4a91",
   "metadata": {
    "tags": []
   },
   "outputs": [
    {
     "data": {
      "text/plain": [
       "33.333333333333336"
      ]
     },
     "execution_count": 7,
     "metadata": {},
     "output_type": "execute_result"
    }
   ],
   "source": [
    "# This will convert 200 minutes to hours by dividing by 60.\n",
    "200 / 6"
   ]
  },
  {
   "cell_type": "markdown",
   "id": "d5e3445c-ea68-4f51-9ff9-7d26a4d86da8",
   "metadata": {},
   "source": [
    " __Objectives:__"
   ]
  },
  {
   "cell_type": "markdown",
   "id": "df0792fe-7df1-4615-a04e-903735ed210d",
   "metadata": {},
   "source": [
    "- List popular languages for Data Science.\n",
    "- Arithmetic Expressions\n",
    "- List commonly used libraries for Data Scientists."
   ]
  },
  {
   "cell_type": "markdown",
   "id": "409a8ef3-8229-4ba4-b3f0-61ae49f7a11d",
   "metadata": {},
   "source": [
    "## Author\n",
    "Jimmy Lieu"
   ]
  },
  {
   "cell_type": "code",
   "execution_count": null,
   "id": "3bca1e6e-0ee4-485e-bfda-be9ffaa75654",
   "metadata": {},
   "outputs": [],
   "source": []
  }
 ],
 "metadata": {
  "kernelspec": {
   "display_name": "Python",
   "language": "python",
   "name": "conda-env-python-py"
  },
  "language_info": {
   "codemirror_mode": {
    "name": "ipython",
    "version": 3
   },
   "file_extension": ".py",
   "mimetype": "text/x-python",
   "name": "python",
   "nbconvert_exporter": "python",
   "pygments_lexer": "ipython3",
   "version": "3.7.12"
  }
 },
 "nbformat": 4,
 "nbformat_minor": 5
}
